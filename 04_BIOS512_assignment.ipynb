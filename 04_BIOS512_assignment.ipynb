{
 "cells": [
  {
   "cell_type": "markdown",
   "id": "0ddac483-9103-435b-b659-7fcd9ce59f60",
   "metadata": {},
   "source": [
    "# BIOS512 Assignment #4"
   ]
  },
  {
   "cell_type": "markdown",
   "id": "3cc32e0c-79d2-49e3-aa79-24cccfe873ea",
   "metadata": {},
   "source": [
    "🌬 For this assignment we are going to work with [Canada wind turbine](https://github.com/rfordatascience/tidytuesday/blob/master/data/2020/2020-10-27/readme.md) data from TidyTuesday. 💨"
   ]
  },
  {
   "cell_type": "markdown",
   "id": "359a4e8a-4e91-444a-a0c5-02f46c81719e",
   "metadata": {},
   "source": [
    "Use `read_csv` to load the data from the TidyTuesday GitHub repository. The project URL is can be found at [https://github.com/rfordatascience/tidytuesday/blob/master/data/2020/2020-10-27/](https://github.com/rfordatascience/tidytuesday/blob/master/data/2020/2020-10-27/)."
   ]
  },
  {
   "cell_type": "code",
   "execution_count": 3,
   "id": "fd3262cf-5af8-4c29-af56-51717fe62323",
   "metadata": {},
   "outputs": [
    {
     "data": {
      "text/html": [
       "<table class=\"dataframe\">\n",
       "<caption>A data.frame: 6 × 15</caption>\n",
       "<thead>\n",
       "\t<tr><th></th><th scope=col>objectid</th><th scope=col>province_territory</th><th scope=col>project_name</th><th scope=col>total_project_capacity_mw</th><th scope=col>turbine_identifier</th><th scope=col>turbine_number_in_project</th><th scope=col>turbine_rated_capacity_k_w</th><th scope=col>rotor_diameter_m</th><th scope=col>hub_height_m</th><th scope=col>manufacturer</th><th scope=col>model</th><th scope=col>commissioning_date</th><th scope=col>latitude</th><th scope=col>longitude</th><th scope=col>notes</th></tr>\n",
       "\t<tr><th></th><th scope=col>&lt;int&gt;</th><th scope=col>&lt;chr&gt;</th><th scope=col>&lt;chr&gt;</th><th scope=col>&lt;dbl&gt;</th><th scope=col>&lt;chr&gt;</th><th scope=col>&lt;chr&gt;</th><th scope=col>&lt;int&gt;</th><th scope=col>&lt;dbl&gt;</th><th scope=col>&lt;dbl&gt;</th><th scope=col>&lt;chr&gt;</th><th scope=col>&lt;chr&gt;</th><th scope=col>&lt;chr&gt;</th><th scope=col>&lt;dbl&gt;</th><th scope=col>&lt;dbl&gt;</th><th scope=col>&lt;chr&gt;</th></tr>\n",
       "</thead>\n",
       "<tbody>\n",
       "\t<tr><th scope=row>1</th><td>1</td><td>Alberta</td><td>Optimist Wind Energy  </td><td> 0.90</td><td>OWE1</td><td>1/2 </td><td>150</td><td>23</td><td>30</td><td>Bonus </td><td>AN 150/30</td><td>1993</td><td>49.52535</td><td>-114.0548</td><td>NA</td></tr>\n",
       "\t<tr><th scope=row>2</th><td>2</td><td>Alberta</td><td>Castle River Wind Farm</td><td>44.00</td><td>CRW1</td><td>1/60</td><td>600</td><td>44</td><td>40</td><td>Vestas</td><td>V44/600  </td><td>1997</td><td>49.51264</td><td>-114.0357</td><td>NA</td></tr>\n",
       "\t<tr><th scope=row>3</th><td>3</td><td>Alberta</td><td>Waterton Wind Turbines</td><td> 3.78</td><td>WWT1</td><td>1/6 </td><td>600</td><td>44</td><td>50</td><td>Vestas</td><td>V44/600  </td><td>1998</td><td>49.23307</td><td>-113.6549</td><td>NA</td></tr>\n",
       "\t<tr><th scope=row>4</th><td>4</td><td>Alberta</td><td>Waterton Wind Turbines</td><td> 3.78</td><td>WWT2</td><td>2/6 </td><td>600</td><td>44</td><td>50</td><td>Vestas</td><td>V44/600  </td><td>1998</td><td>49.23303</td><td>-113.6302</td><td>NA</td></tr>\n",
       "\t<tr><th scope=row>5</th><td>5</td><td>Alberta</td><td>Waterton Wind Turbines</td><td> 3.78</td><td>WWT3</td><td>3/6 </td><td>600</td><td>44</td><td>50</td><td>Vestas</td><td>V44/600  </td><td>1998</td><td>49.21755</td><td>-113.6802</td><td>NA</td></tr>\n",
       "\t<tr><th scope=row>6</th><td>6</td><td>Alberta</td><td>Waterton Wind Turbines</td><td> 3.78</td><td>WWT4</td><td>4/6 </td><td>660</td><td>47</td><td>50</td><td>Vestas</td><td>V47/660  </td><td>2000</td><td>49.21773</td><td>-113.6579</td><td>NA</td></tr>\n",
       "</tbody>\n",
       "</table>\n"
      ],
      "text/latex": [
       "A data.frame: 6 × 15\n",
       "\\begin{tabular}{r|lllllllllllllll}\n",
       "  & objectid & province\\_territory & project\\_name & total\\_project\\_capacity\\_mw & turbine\\_identifier & turbine\\_number\\_in\\_project & turbine\\_rated\\_capacity\\_k\\_w & rotor\\_diameter\\_m & hub\\_height\\_m & manufacturer & model & commissioning\\_date & latitude & longitude & notes\\\\\n",
       "  & <int> & <chr> & <chr> & <dbl> & <chr> & <chr> & <int> & <dbl> & <dbl> & <chr> & <chr> & <chr> & <dbl> & <dbl> & <chr>\\\\\n",
       "\\hline\n",
       "\t1 & 1 & Alberta & Optimist Wind Energy   &  0.90 & OWE1 & 1/2  & 150 & 23 & 30 & Bonus  & AN 150/30 & 1993 & 49.52535 & -114.0548 & NA\\\\\n",
       "\t2 & 2 & Alberta & Castle River Wind Farm & 44.00 & CRW1 & 1/60 & 600 & 44 & 40 & Vestas & V44/600   & 1997 & 49.51264 & -114.0357 & NA\\\\\n",
       "\t3 & 3 & Alberta & Waterton Wind Turbines &  3.78 & WWT1 & 1/6  & 600 & 44 & 50 & Vestas & V44/600   & 1998 & 49.23307 & -113.6549 & NA\\\\\n",
       "\t4 & 4 & Alberta & Waterton Wind Turbines &  3.78 & WWT2 & 2/6  & 600 & 44 & 50 & Vestas & V44/600   & 1998 & 49.23303 & -113.6302 & NA\\\\\n",
       "\t5 & 5 & Alberta & Waterton Wind Turbines &  3.78 & WWT3 & 3/6  & 600 & 44 & 50 & Vestas & V44/600   & 1998 & 49.21755 & -113.6802 & NA\\\\\n",
       "\t6 & 6 & Alberta & Waterton Wind Turbines &  3.78 & WWT4 & 4/6  & 660 & 47 & 50 & Vestas & V47/660   & 2000 & 49.21773 & -113.6579 & NA\\\\\n",
       "\\end{tabular}\n"
      ],
      "text/markdown": [
       "\n",
       "A data.frame: 6 × 15\n",
       "\n",
       "| <!--/--> | objectid &lt;int&gt; | province_territory &lt;chr&gt; | project_name &lt;chr&gt; | total_project_capacity_mw &lt;dbl&gt; | turbine_identifier &lt;chr&gt; | turbine_number_in_project &lt;chr&gt; | turbine_rated_capacity_k_w &lt;int&gt; | rotor_diameter_m &lt;dbl&gt; | hub_height_m &lt;dbl&gt; | manufacturer &lt;chr&gt; | model &lt;chr&gt; | commissioning_date &lt;chr&gt; | latitude &lt;dbl&gt; | longitude &lt;dbl&gt; | notes &lt;chr&gt; |\n",
       "|---|---|---|---|---|---|---|---|---|---|---|---|---|---|---|---|\n",
       "| 1 | 1 | Alberta | Optimist Wind Energy   |  0.90 | OWE1 | 1/2  | 150 | 23 | 30 | Bonus  | AN 150/30 | 1993 | 49.52535 | -114.0548 | NA |\n",
       "| 2 | 2 | Alberta | Castle River Wind Farm | 44.00 | CRW1 | 1/60 | 600 | 44 | 40 | Vestas | V44/600   | 1997 | 49.51264 | -114.0357 | NA |\n",
       "| 3 | 3 | Alberta | Waterton Wind Turbines |  3.78 | WWT1 | 1/6  | 600 | 44 | 50 | Vestas | V44/600   | 1998 | 49.23307 | -113.6549 | NA |\n",
       "| 4 | 4 | Alberta | Waterton Wind Turbines |  3.78 | WWT2 | 2/6  | 600 | 44 | 50 | Vestas | V44/600   | 1998 | 49.23303 | -113.6302 | NA |\n",
       "| 5 | 5 | Alberta | Waterton Wind Turbines |  3.78 | WWT3 | 3/6  | 600 | 44 | 50 | Vestas | V44/600   | 1998 | 49.21755 | -113.6802 | NA |\n",
       "| 6 | 6 | Alberta | Waterton Wind Turbines |  3.78 | WWT4 | 4/6  | 660 | 47 | 50 | Vestas | V47/660   | 2000 | 49.21773 | -113.6579 | NA |\n",
       "\n"
      ],
      "text/plain": [
       "  objectid province_territory project_name           total_project_capacity_mw\n",
       "1 1        Alberta            Optimist Wind Energy    0.90                    \n",
       "2 2        Alberta            Castle River Wind Farm 44.00                    \n",
       "3 3        Alberta            Waterton Wind Turbines  3.78                    \n",
       "4 4        Alberta            Waterton Wind Turbines  3.78                    \n",
       "5 5        Alberta            Waterton Wind Turbines  3.78                    \n",
       "6 6        Alberta            Waterton Wind Turbines  3.78                    \n",
       "  turbine_identifier turbine_number_in_project turbine_rated_capacity_k_w\n",
       "1 OWE1               1/2                       150                       \n",
       "2 CRW1               1/60                      600                       \n",
       "3 WWT1               1/6                       600                       \n",
       "4 WWT2               2/6                       600                       \n",
       "5 WWT3               3/6                       600                       \n",
       "6 WWT4               4/6                       660                       \n",
       "  rotor_diameter_m hub_height_m manufacturer model     commissioning_date\n",
       "1 23               30           Bonus        AN 150/30 1993              \n",
       "2 44               40           Vestas       V44/600   1997              \n",
       "3 44               50           Vestas       V44/600   1998              \n",
       "4 44               50           Vestas       V44/600   1998              \n",
       "5 44               50           Vestas       V44/600   1998              \n",
       "6 47               50           Vestas       V47/660   2000              \n",
       "  latitude longitude notes\n",
       "1 49.52535 -114.0548 NA   \n",
       "2 49.51264 -114.0357 NA   \n",
       "3 49.23307 -113.6549 NA   \n",
       "4 49.23303 -113.6302 NA   \n",
       "5 49.21755 -113.6802 NA   \n",
       "6 49.21773 -113.6579 NA   "
      ]
     },
     "metadata": {},
     "output_type": "display_data"
    }
   ],
   "source": [
    "library('tidyverse')\n",
    "\n",
    "turbine = read.csv('https://raw.githubusercontent.com/rfordatascience/tidytuesday/refs/heads/master/data/2020/2020-10-27/wind-turbine.csv')\n",
    "turbine |> head()"
   ]
  },
  {
   "cell_type": "markdown",
   "id": "69a2e2c8-6cac-4f20-81ab-c48eb344bf0e",
   "metadata": {},
   "source": [
    "Each row in the table represents a single turbine."
   ]
  },
  {
   "cell_type": "markdown",
   "id": "4d9074db-0b35-4582-a9ef-1b3db5e883ba",
   "metadata": {},
   "source": [
    "Make a bar chart 📊 **sorted by frequency** of turbine count per province territory. (Hint: `fct_infreq` will sort your factor levels by frequency for subsequent plotting)"
   ]
  },
  {
   "cell_type": "code",
   "execution_count": 16,
   "id": "3fc4da48-6625-43ee-ba32-684ad265b3d8",
   "metadata": {
    "tags": []
   },
   "outputs": [
    {
     "data": {
      "image/png": "[encoded data removed]",
      "text/plain": [
       "plot without title"
      ]
     },
     "metadata": {
      "image/png": {
       "height": 375,
       "width": 500
      }
     },
     "output_type": "display_data"
    }
   ],
   "source": [
    "turbine |>\n",
    "    mutate(province_territory = fct_infreq(province_territory) |> fct_rev()) |>\n",
    "ggplot(aes(y = province_territory)) + geom_bar()"
   ]
  },
  {
   "cell_type": "markdown",
   "id": "c9c011e1-342a-4ac2-a37d-27f6854a9f13",
   "metadata": {},
   "source": [
    "Make a bar chart **sorted by frequency** of turbine count per manufacturer. **Group the low frequency manufacturers into an `Other` category**.\n",
    "\n",
    "**Bonus:** Can you force the `Other` category to be the last bar? "
   ]
  },
  {
   "cell_type": "code",
   "execution_count": 29,
   "id": "7003026c-f685-4baf-9470-c559f702cc02",
   "metadata": {},
   "outputs": [
    {
     "data": {
      "image/png": "[encoded data removed]",
      "text/plain": [
       "plot without title"
      ]
     },
     "metadata": {
      "image/png": {
       "height": 375,
       "width": 500
      }
     },
     "output_type": "display_data"
    }
   ],
   "source": [
    "turbine |>\n",
    "    mutate(manufacturer = fct_lump(manufacturer, n=6) |> \n",
    "           fct_infreq() |> \n",
    "           fct_relevel('Other', after = Inf) |> \n",
    "           fct_rev()) |>\n",
    "ggplot(aes(y = manufacturer)) + geom_bar()"
   ]
  },
  {
   "cell_type": "markdown",
   "id": "cfee3f8b-391d-48b4-81f4-9d88e091b411",
   "metadata": {},
   "source": [
    "Let's make a map of where each turbine is located. 🗺️\n",
    "\n",
    "In the cell below ⬇️ load the `mapdata` package."
   ]
  },
  {
   "cell_type": "code",
   "execution_count": 30,
   "id": "f330d546-74ff-4bef-9eba-533795195611",
   "metadata": {},
   "outputs": [
    {
     "name": "stderr",
     "output_type": "stream",
     "text": [
      "Loading required package: maps\n",
      "\n",
      "\n",
      "Attaching package: ‘maps’\n",
      "\n",
      "\n",
      "The following object is masked from ‘package:purrr’:\n",
      "\n",
      "    map\n",
      "\n",
      "\n"
     ]
    }
   ],
   "source": [
    "library('mapdata')"
   ]
  },
  {
   "cell_type": "markdown",
   "id": "5a07b6ed-46c2-4645-b3ff-47e168296673",
   "metadata": {},
   "source": [
    "Now we can retrieve the \"data\" for a map of Canada. Run this code:"
   ]
  },
  {
   "cell_type": "code",
   "execution_count": 31,
   "id": "b1e17993-8db6-4d0f-b99a-241f40b16c75",
   "metadata": {},
   "outputs": [],
   "source": [
    "canada = map_data('world', region='Canada')"
   ]
  },
  {
   "cell_type": "markdown",
   "id": "c16765b4-4461-4fe8-8b37-a09f8fcc76f6",
   "metadata": {},
   "source": [
    "Are the column names for `latitude` and `longitude` the same for your Canada map data and the turbine data?"
   ]
  },
  {
   "cell_type": "code",
   "execution_count": 32,
   "id": "e9349561-a56e-4436-be3b-b5aefc8e7f6f",
   "metadata": {},
   "outputs": [
    {
     "data": {
      "text/html": [
       "<table class=\"dataframe\">\n",
       "<caption>A data.frame: 6 × 6</caption>\n",
       "<thead>\n",
       "\t<tr><th></th><th scope=col>long</th><th scope=col>lat</th><th scope=col>group</th><th scope=col>order</th><th scope=col>region</th><th scope=col>subregion</th></tr>\n",
       "\t<tr><th></th><th scope=col>&lt;dbl&gt;</th><th scope=col>&lt;dbl&gt;</th><th scope=col>&lt;dbl&gt;</th><th scope=col>&lt;int&gt;</th><th scope=col>&lt;chr&gt;</th><th scope=col>&lt;chr&gt;</th></tr>\n",
       "</thead>\n",
       "<tbody>\n",
       "\t<tr><th scope=row>1</th><td>-59.78760</td><td>43.93960</td><td>1</td><td>1</td><td>Canada</td><td>Sable Island</td></tr>\n",
       "\t<tr><th scope=row>2</th><td>-59.92227</td><td>43.90391</td><td>1</td><td>2</td><td>Canada</td><td>Sable Island</td></tr>\n",
       "\t<tr><th scope=row>3</th><td>-60.03775</td><td>43.90664</td><td>1</td><td>3</td><td>Canada</td><td>Sable Island</td></tr>\n",
       "\t<tr><th scope=row>4</th><td>-60.11426</td><td>43.93911</td><td>1</td><td>4</td><td>Canada</td><td>Sable Island</td></tr>\n",
       "\t<tr><th scope=row>5</th><td>-60.11748</td><td>43.95337</td><td>1</td><td>5</td><td>Canada</td><td>Sable Island</td></tr>\n",
       "\t<tr><th scope=row>6</th><td>-59.93604</td><td>43.93960</td><td>1</td><td>6</td><td>Canada</td><td>Sable Island</td></tr>\n",
       "</tbody>\n",
       "</table>\n"
      ],
      "text/latex": [
       "A data.frame: 6 × 6\n",
       "\\begin{tabular}{r|llllll}\n",
       "  & long & lat & group & order & region & subregion\\\\\n",
       "  & <dbl> & <dbl> & <dbl> & <int> & <chr> & <chr>\\\\\n",
       "\\hline\n",
       "\t1 & -59.78760 & 43.93960 & 1 & 1 & Canada & Sable Island\\\\\n",
       "\t2 & -59.92227 & 43.90391 & 1 & 2 & Canada & Sable Island\\\\\n",
       "\t3 & -60.03775 & 43.90664 & 1 & 3 & Canada & Sable Island\\\\\n",
       "\t4 & -60.11426 & 43.93911 & 1 & 4 & Canada & Sable Island\\\\\n",
       "\t5 & -60.11748 & 43.95337 & 1 & 5 & Canada & Sable Island\\\\\n",
       "\t6 & -59.93604 & 43.93960 & 1 & 6 & Canada & Sable Island\\\\\n",
       "\\end{tabular}\n"
      ],
      "text/markdown": [
       "\n",
       "A data.frame: 6 × 6\n",
       "\n",
       "| <!--/--> | long &lt;dbl&gt; | lat &lt;dbl&gt; | group &lt;dbl&gt; | order &lt;int&gt; | region &lt;chr&gt; | subregion &lt;chr&gt; |\n",
       "|---|---|---|---|---|---|---|\n",
       "| 1 | -59.78760 | 43.93960 | 1 | 1 | Canada | Sable Island |\n",
       "| 2 | -59.92227 | 43.90391 | 1 | 2 | Canada | Sable Island |\n",
       "| 3 | -60.03775 | 43.90664 | 1 | 3 | Canada | Sable Island |\n",
       "| 4 | -60.11426 | 43.93911 | 1 | 4 | Canada | Sable Island |\n",
       "| 5 | -60.11748 | 43.95337 | 1 | 5 | Canada | Sable Island |\n",
       "| 6 | -59.93604 | 43.93960 | 1 | 6 | Canada | Sable Island |\n",
       "\n"
      ],
      "text/plain": [
       "  long      lat      group order region subregion   \n",
       "1 -59.78760 43.93960 1     1     Canada Sable Island\n",
       "2 -59.92227 43.90391 1     2     Canada Sable Island\n",
       "3 -60.03775 43.90664 1     3     Canada Sable Island\n",
       "4 -60.11426 43.93911 1     4     Canada Sable Island\n",
       "5 -60.11748 43.95337 1     5     Canada Sable Island\n",
       "6 -59.93604 43.93960 1     6     Canada Sable Island"
      ]
     },
     "metadata": {},
     "output_type": "display_data"
    }
   ],
   "source": [
    "canada |> head()"
   ]
  },
  {
   "cell_type": "markdown",
   "id": "e0036ff0-4933-4e85-accb-f56f76a87b42",
   "metadata": {},
   "source": [
    "The code below creates a map of Canada. Modify the code to add the turbine locations. \n",
    "\n",
    "❗️ **Hint:** use `geom_point`. Remember to, \n",
    "1. define encodings inside of `geom_point` that work for the **turbine data**, and\n",
    "2. to override the data in `geom_point` to use the **turbine data** instead of the **Canada map data**. ❗️\n",
    "\n",
    "[This](https://github.com/chuckpr/BIOS512/blob/main/assignments/2024/map.png?raw=true) is what the map should look like..."
   ]
  },
  {
   "cell_type": "code",
   "execution_count": 38,
   "id": "430bd995-d553-499a-8920-c98d0f5785c5",
   "metadata": {},
   "outputs": [
    {
     "name": "stderr",
     "output_type": "stream",
     "text": [
      "ERROR while rich displaying an object: \u001b[1m\u001b[33mError\u001b[39m in `geom_point()`:\u001b[22m\n",
      "\u001b[1m\u001b[22m\u001b[33m!\u001b[39m Problem while converting geom to grob.\n",
      "\u001b[36mℹ\u001b[39m Error occurred in the 2nd layer.\n",
      "\u001b[1mCaused by error in `coords$size * .pt`:\u001b[22m\n",
      "\u001b[33m!\u001b[39m non-numeric argument to binary operator\n",
      "\n",
      "Traceback:\n",
      "1. tryCatch(withCallingHandlers({\n",
      " .     if (!mime %in% names(repr::mime2repr)) \n",
      " .         stop(\"No repr_* for mimetype \", mime, \" in repr::mime2repr\")\n",
      " .     rpr <- repr::mime2repr[[mime]](obj)\n",
      " .     if (is.null(rpr)) \n",
      " .         return(NULL)\n",
      " .     prepare_content(is.raw(rpr), rpr)\n",
      " . }, error = error_handler), error = outer_handler)\n",
      "2. tryCatchList(expr, classes, parentenv, handlers)\n",
      "3. tryCatchOne(expr, names, parentenv, handlers[[1L]])\n",
      "4. doTryCatch(return(expr), name, parentenv, handler)\n",
      "5. withCallingHandlers({\n",
      " .     if (!mime %in% names(repr::mime2repr)) \n",
      " .         stop(\"No repr_* for mimetype \", mime, \" in repr::mime2repr\")\n",
      " .     rpr <- repr::mime2repr[[mime]](obj)\n",
      " .     if (is.null(rpr)) \n",
      " .         return(NULL)\n",
      " .     prepare_content(is.raw(rpr), rpr)\n",
      " . }, error = error_handler)\n",
      "6. repr::mime2repr[[mime]](obj)\n",
      "7. repr_text.default(obj)\n",
      "8. paste(capture.output(print(obj)), collapse = \"\\n\")\n",
      "9. capture.output(print(obj))\n",
      "10. withVisible(...elt(i))\n",
      "11. print(obj)\n",
      "12. print.ggplot(obj)\n",
      "13. ggplot_gtable(data)\n",
      "14. ggplot_gtable.ggplot_built(data)\n",
      "15. by_layer(function(l, d) l$draw_geom(d, layout), plot$layers, \n",
      "  .     data, \"converting geom to grob\")\n",
      "16. try_fetch(for (i in seq_along(data)) {\n",
      "  .     out[[i]] <- f(l = layers[[i]], d = data[[i]])\n",
      "  . }, error = function(cnd) {\n",
      "  .     cli::cli_abort(c(\"Problem while {step}.\", i = \"Error occurred in the {ordinal(i)} layer.\"), \n",
      "  .         call = layers[[i]]$constructor, parent = cnd)\n",
      "  . })\n",
      "17. tryCatch(withCallingHandlers(expr, condition = function(cnd) {\n",
      "  .     {\n",
      "  .         .__handler_frame__. <- TRUE\n",
      "  .         .__setup_frame__. <- frame\n",
      "  .         if (inherits(cnd, \"message\")) {\n",
      "  .             except <- c(\"warning\", \"error\")\n",
      "  .         }\n",
      "  .         else if (inherits(cnd, \"warning\")) {\n",
      "  .             except <- \"error\"\n",
      "  .         }\n",
      "  .         else {\n",
      "  .             except <- \"\"\n",
      "  .         }\n",
      "  .     }\n",
      "  .     while (!is_null(cnd)) {\n",
      "  .         if (inherits(cnd, \"error\")) {\n",
      "  .             out <- handlers[[1L]](cnd)\n",
      "  .             if (!inherits(out, \"rlang_zap\")) \n",
      "  .                 throw(out)\n",
      "  .         }\n",
      "  .         inherit <- .subset2(.subset2(cnd, \"rlang\"), \"inherit\")\n",
      "  .         if (is_false(inherit)) {\n",
      "  .             return()\n",
      "  .         }\n",
      "  .         cnd <- .subset2(cnd, \"parent\")\n",
      "  .     }\n",
      "  . }), stackOverflowError = handlers[[1L]])\n",
      "18. tryCatchList(expr, classes, parentenv, handlers)\n",
      "19. tryCatchOne(expr, names, parentenv, handlers[[1L]])\n",
      "20. doTryCatch(return(expr), name, parentenv, handler)\n",
      "21. withCallingHandlers(expr, condition = function(cnd) {\n",
      "  .     {\n",
      "  .         .__handler_frame__. <- TRUE\n",
      "  .         .__setup_frame__. <- frame\n",
      "  .         if (inherits(cnd, \"message\")) {\n",
      "  .             except <- c(\"warning\", \"error\")\n",
      "  .         }\n",
      "  .         else if (inherits(cnd, \"warning\")) {\n",
      "  .             except <- \"error\"\n",
      "  .         }\n",
      "  .         else {\n",
      "  .             except <- \"\"\n",
      "  .         }\n",
      "  .     }\n",
      "  .     while (!is_null(cnd)) {\n",
      "  .         if (inherits(cnd, \"error\")) {\n",
      "  .             out <- handlers[[1L]](cnd)\n",
      "  .             if (!inherits(out, \"rlang_zap\")) \n",
      "  .                 throw(out)\n",
      "  .         }\n",
      "  .         inherit <- .subset2(.subset2(cnd, \"rlang\"), \"inherit\")\n",
      "  .         if (is_false(inherit)) {\n",
      "  .             return()\n",
      "  .         }\n",
      "  .         cnd <- .subset2(cnd, \"parent\")\n",
      "  .     }\n",
      "  . })\n",
      "22. f(l = layers[[i]], d = data[[i]])\n",
      "23. l$draw_geom(d, layout)\n",
      "24. draw_geom(..., self = self)\n",
      "25. self$geom$draw_layer(data, self$computed_geom_params, layout, \n",
      "  .     layout$coord)\n",
      "26. draw_layer(..., self = self)\n",
      "27. lapply(data_panels, function(data) {\n",
      "  .     if (empty(data)) \n",
      "  .         return(zeroGrob())\n",
      "  .     panel_params <- layout$panel_params[[data$PANEL[1]]]\n",
      "  .     inject(self$draw_panel(data, panel_params, coord, !!!params))\n",
      "  . })\n",
      "28. FUN(X[[i]], ...)\n",
      "29. inject(self$draw_panel(data, panel_params, coord, !!!params))\n",
      "30. self$draw_panel(data, panel_params, coord, na.rm = FALSE)\n",
      "31. draw_panel(..., self = self)\n",
      "32. ggname(\"geom_point\", pointsGrob(coords$x, coords$y, pch = coords$shape, \n",
      "  .     gp = gpar(col = alpha(coords$colour, coords$alpha), fill = fill_alpha(coords$fill, \n",
      "  .         coords$alpha), fontsize = coords$size * .pt + stroke_size * \n",
      "  .         .stroke/2, lwd = coords$stroke * .stroke/2)))\n",
      "33. grobName(grob, prefix)\n",
      "34. pointsGrob(coords$x, coords$y, pch = coords$shape, gp = gpar(col = alpha(coords$colour, \n",
      "  .     coords$alpha), fill = fill_alpha(coords$fill, coords$alpha), \n",
      "  .     fontsize = coords$size * .pt + stroke_size * .stroke/2, lwd = coords$stroke * \n",
      "  .         .stroke/2))\n",
      "35. grob(x = x, y = y, pch = pch, size = size, name = name, gp = gp, \n",
      "  .     vp = vp, cl = \"points\")\n",
      "36. gpar(col = alpha(coords$colour, coords$alpha), fill = fill_alpha(coords$fill, \n",
      "  .     coords$alpha), fontsize = coords$size * .pt + stroke_size * \n",
      "  .     .stroke/2, lwd = coords$stroke * .stroke/2)\n",
      "37. validGP(list(...))\n",
      "38. numnotnull(\"fontsize\")\n",
      "39. .handleSimpleError(function (cnd) \n",
      "  . {\n",
      "  .     {\n",
      "  .         .__handler_frame__. <- TRUE\n",
      "  .         .__setup_frame__. <- frame\n",
      "  .         if (inherits(cnd, \"message\")) {\n",
      "  .             except <- c(\"warning\", \"error\")\n",
      "  .         }\n",
      "  .         else if (inherits(cnd, \"warning\")) {\n",
      "  .             except <- \"error\"\n",
      "  .         }\n",
      "  .         else {\n",
      "  .             except <- \"\"\n",
      "  .         }\n",
      "  .     }\n",
      "  .     while (!is_null(cnd)) {\n",
      "  .         if (inherits(cnd, \"error\")) {\n",
      "  .             out <- handlers[[1L]](cnd)\n",
      "  .             if (!inherits(out, \"rlang_zap\")) \n",
      "  .                 throw(out)\n",
      "  .         }\n",
      "  .         inherit <- .subset2(.subset2(cnd, \"rlang\"), \"inherit\")\n",
      "  .         if (is_false(inherit)) {\n",
      "  .             return()\n",
      "  .         }\n",
      "  .         cnd <- .subset2(cnd, \"parent\")\n",
      "  .     }\n",
      "  . }, \"non-numeric argument to binary operator\", base::quote(coords$size * \n",
      "  .     .pt))\n",
      "40. h(simpleError(msg, call))\n",
      "41. handlers[[1L]](cnd)\n",
      "42. cli::cli_abort(c(\"Problem while {step}.\", i = \"Error occurred in the {ordinal(i)} layer.\"), \n",
      "  .     call = layers[[i]]$constructor, parent = cnd)\n",
      "43. rlang::abort(message, ..., call = call, use_cli_format = TRUE, \n",
      "  .     .frame = .frame)\n",
      "44. signal_abort(cnd, .file)\n"
     ]
    }
   ],
   "source": [
    "ggplot(data = canada) + \n",
    "    geom_polygon(aes(x = long, y = lat, group = group), fill = 'coral', color = \"white\", alpha = 0.5) + \n",
    "    coord_quickmap() +\n",
    "    geom_point(data = turbine, aes(x=longitude, y=latitude), size='.5')"
   ]
  },
  {
   "cell_type": "code",
   "execution_count": null,
   "id": "80aa9e05-b245-4a7b-bef3-674a7a712012",
   "metadata": {},
   "outputs": [],
   "source": []
  }
 ],
 "metadata": {
  "kernelspec": {
   "display_name": ".conda-bios512:R",
   "language": "R",
   "name": "conda-env-.conda-bios512-r"
  },
  "language_info": {
   "codemirror_mode": "r",
   "file_extension": ".r",
   "mimetype": "text/x-r-source",
   "name": "R",
   "pygments_lexer": "r",
   "version": "4.4.1"
  }
 },
 "nbformat": 4,
 "nbformat_minor": 5
}
